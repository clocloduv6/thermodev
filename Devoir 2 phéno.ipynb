{
 "cells": [
  {
   "cell_type": "markdown",
   "id": "dc453177",
   "metadata": {},
   "source": [
    "# Données du mélange propylène glycole et eau "
   ]
  },
  {
   "cell_type": "code",
   "execution_count": 1,
   "id": "2c9666eb",
   "metadata": {
    "scrolled": true
   },
   "outputs": [
    {
     "name": "stdout",
     "output_type": "stream",
     "text": [
      "Le CP du mélange est de  2608.7166100707627 J/Kg * K \n",
      "le k du mélange est de  0.2363542976456611 W/mK \n",
      "le H du mélange est de  -1737689.5461502841 W/m^2K \n"
     ]
    }
   ],
   "source": [
    "import thermo as th \n",
    "import numpy as np\n",
    "import sympy as sp\n",
    "import matplotlib.pyplot as plt\n",
    "from IPython.display import *\n",
    "sp.init_printing(use_latex=True)\n",
    "\n",
    "#propylène glycole : 4254-14-2 a 30 % \n",
    "#eau : 7732-18-5\n",
    "\n",
    "T = -3.5 + 273.15 \n",
    "P = 101325\n",
    "\n",
    "Mix = th.Mixture(('4254-14-2', '7732-18-5'), zs = (0.30,0.70), T=T, P=P)\n",
    "eau = th.Mixture(('4254-14-2', '7732-18-5'), zs = (0.0,0.100), T=T, P=P)\n",
    "\n",
    "print('Le CP du mélange est de ', Mix.Cp, 'J/Kg * K ')\n",
    "\n",
    "print('le k du mélange est de ', Mix.k, 'W/mK ')\n",
    "\n",
    "print('le H du mélange est de ', Mix.H, 'W/m^2K ')\n",
    "\n",
    "\n"
   ]
  },
  {
   "cell_type": "markdown",
   "id": "64f60c93",
   "metadata": {},
   "source": [
    "# Fermenteur\n",
    "## Données pour bilan d'énergie\n",
    "### A : Surface de contact "
   ]
  },
  {
   "cell_type": "raw",
   "id": "032b3f61",
   "metadata": {},
   "source": [
    "Comme on néglige les bouts, la paroi en contact est un cylindre sans fond. On utilise la formule : 2 ( pi ) * r * h "
   ]
  },
  {
   "cell_type": "code",
   "execution_count": 2,
   "id": "cbd0a109",
   "metadata": {},
   "outputs": [
    {
     "name": "stdout",
     "output_type": "stream",
     "text": [
      "Le A pour la paroi extérieur est de 4.811187514049986 m^2\n",
      "Le A pour la paroi intérieur est de 4.286745273181977 m^2\n"
     ]
    }
   ],
   "source": [
    "##Paroi extérieur\n",
    "\n",
    "r_ext = 39.5625/2\n",
    "h = 60\n",
    "\n",
    "A_extpo = 2 * np.pi * r_ext * h \n",
    "A_ext = A_extpo / 1550.0031 # convertion po^2 en m^2\n",
    "\n",
    "print (\"Le A pour la paroi extérieur est de\", A_ext, \"m^2\")\n",
    "\n",
    "r_in = 35.25/2\n",
    "h = 60\n",
    "\n",
    "A_inpo = 2 * np.pi * r_in * h \n",
    "A_in = A_inpo / 1550.0031\n",
    "\n",
    "print (\"Le A pour la paroi intérieur est de\", A_in, \"m^2\")"
   ]
  },
  {
   "cell_type": "markdown",
   "id": "8df3a20e",
   "metadata": {},
   "source": [
    "### L : épaisseur du mur"
   ]
  },
  {
   "cell_type": "raw",
   "id": "c2cd0b5d",
   "metadata": {},
   "source": [
    "On considère que le propylène agit comme un \"mur\" pour son effet de résistance donc il nous faut la largeur de ce mur. "
   ]
  },
  {
   "cell_type": "code",
   "execution_count": 3,
   "id": "37aad51e",
   "metadata": {
    "scrolled": true
   },
   "outputs": [
    {
     "name": "stdout",
     "output_type": "stream",
     "text": [
      "l'épaisseur de la double paroi est de 0.05476875 m\n"
     ]
    }
   ],
   "source": [
    "L_po = r_ext-r_in \n",
    "L_m = L_po * 0.0254\n",
    "print(\"l'épaisseur de la double paroi est de\", L_m, \"m\")"
   ]
  },
  {
   "cell_type": "markdown",
   "id": "5e6aa792",
   "metadata": {},
   "source": [
    "## Bilan \n",
    "voir pdf pour la pose du problème et explication des hypothèses"
   ]
  },
  {
   "cell_type": "code",
   "execution_count": 12,
   "id": "9f6322d4",
   "metadata": {},
   "outputs": [],
   "source": [
    "qdot,mdot,t,U,A,Tb,Tpg,Cp,Tout,Tin,L,kp,hb, Aint, Aext, Rtot, rho=sp.symbols(\"q_dot m_dot t U A Tb Tpg Cp T_out T_in L k_p h_b A_int A_ext R_tot rho\")\n"
   ]
  },
  {
   "cell_type": "code",
   "execution_count": 16,
   "id": "1285f236",
   "metadata": {},
   "outputs": [
    {
     "data": {
      "image/png": "[encoded data removed]",
      "text/latex": [
       "$\\displaystyle \\left( R_{tot}, \\  \\frac{1}{A_{int} h_{b}} + \\frac{L}{A_{ext} k_{p}}\\right)$"
      ],
      "text/plain": [
       "⎛         1          L   ⎞\n",
       "⎜Rₜₒₜ, ──────── + ───────⎟\n",
       "⎝      Aᵢₙₜ⋅h_b   Aₑₓₜ⋅kₚ⎠"
      ]
     },
     "metadata": {},
     "output_type": "display_data"
    },
    {
     "data": {
      "image/png": "[encoded data removed]",
      "text/latex": [
       "$\\displaystyle \\left( R_{tot}, \\  \\frac{1}{A U}\\right)$"
      ],
      "text/plain": [
       "⎛       1 ⎞\n",
       "⎜Rₜₒₜ, ───⎟\n",
       "⎝      A⋅U⎠"
      ]
     },
     "metadata": {},
     "output_type": "display_data"
    },
    {
     "data": {
      "text/plain": [
       "'donc'"
      ]
     },
     "metadata": {},
     "output_type": "display_data"
    },
    {
     "data": {
      "image/png": "[encoded data removed]",
      "text/latex": [
       "$\\displaystyle \\left( A U, \\  \\frac{1}{R_{tot}}\\right)$"
      ],
      "text/plain": [
       "⎛      1  ⎞\n",
       "⎜A⋅U, ────⎟\n",
       "⎝     Rₜₒₜ⎠"
      ]
     },
     "metadata": {},
     "output_type": "display_data"
    }
   ],
   "source": [
    "eq1 = (Rtot,(L/(kp*Aext) + 1/(hb*Aint))) \n",
    "display(eq1)\n",
    "eq2 = (Rtot, 1/(U*A))\n",
    "eq3 = (A*U, 1/Rtot)\n",
    "display (eq2, 'donc', eq3)"
   ]
  },
  {
   "cell_type": "code",
   "execution_count": 13,
   "id": "f0889d2a",
   "metadata": {},
   "outputs": [
    {
     "data": {
      "image/png": "[encoded data removed]",
      "text/latex": [
       "$\\displaystyle \\left( m_{dot}, \\  \\frac{A U \\left(Tb - Tpg\\right)}{Cp \\left(- T_{in} + T_{out}\\right)}\\right)$"
      ],
      "text/plain": [
       "⎛        A⋅U⋅(Tb - Tpg) ⎞\n",
       "⎜m_dot, ────────────────⎟\n",
       "⎝       Cp⋅(-Tᵢₙ + Tₒᵤₜ)⎠"
      ]
     },
     "metadata": {},
     "output_type": "display_data"
    }
   ],
   "source": [
    "#Si on modifie la formule donnée dans lénoncé \n",
    "eq3 = (mdot,(U*A*(Tb-Tpg))/(Cp*(Tout-Tin)))\n",
    "display(eq3)\n"
   ]
  },
  {
   "cell_type": "code",
   "execution_count": 15,
   "id": "13a5cc28",
   "metadata": {},
   "outputs": [
    {
     "data": {
      "image/png": "[encoded data removed]",
      "text/latex": [
       "$\\displaystyle \\left( q_{dot}, \\  \\frac{m_{dot}}{\\rho}\\right)$"
      ],
      "text/plain": [
       "⎛       m_dot⎞\n",
       "⎜q_dot, ─────⎟\n",
       "⎝         ρ  ⎠"
      ]
     },
     "metadata": {},
     "output_type": "display_data"
    }
   ],
   "source": [
    "#masse vers volume\n",
    "\n",
    "eq4 =(qdot, mdot/rho)\n",
    "display (eq4)"
   ]
  },
  {
   "cell_type": "code",
   "execution_count": null,
   "id": "4f4aae44",
   "metadata": {},
   "outputs": [],
   "source": [
    "#changer en gallon par minute\n"
   ]
  }
 ],
 "metadata": {
  "kernelspec": {
   "display_name": "Python 3 (ipykernel)",
   "language": "python",
   "name": "python3"
  },
  "language_info": {
   "codemirror_mode": {
    "name": "ipython",
    "version": 3
   },
   "file_extension": ".py",
   "mimetype": "text/x-python",
   "name": "python",
   "nbconvert_exporter": "python",
   "pygments_lexer": "ipython3",
   "version": "3.9.12"
  }
 },
 "nbformat": 4,
 "nbformat_minor": 5
}
