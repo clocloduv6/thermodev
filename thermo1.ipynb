{
 "cells": [
  {
   "cell_type": "markdown",
   "id": "6438d50b",
   "metadata": {},
   "source": [
    "<h1><center>ANALYSE ÉNERGÉTIQUE</center></h1>\n",
    "<h1><center>GBT 302 Thermodynamique chimique pour ingénieurs</center></h1>\n",
    "<h1><center>Félicia BÉGIN - BEGF2103</center></h1>\n",
    "<h1><center>Salma BERRAYANA - BERS2224</center></h1>\n",
    "<h1><center>Juliette DEMERS - DEMJ1605</center></h1>\n",
    "<h1><center>Mégane DUPUIS - DUPM1812</center></h1>\n",
    "<h1><center>Clovis DUVAL - DUVC2203</center></h1>\n",
    "<h1><center>Sherbrooke (Québec) Canada</center></h1>\n",
    "<h1><center>Novembre 2023</center></h1>"
   ]
  },
  {
   "cell_type": "code",
   "execution_count": null,
   "id": "fc15c92a",
   "metadata": {},
   "outputs": [],
   "source": []
  }
 ],
 "metadata": {
  "kernelspec": {
   "display_name": "Python 3 (ipykernel)",
   "language": "python",
   "name": "python3"
  },
  "language_info": {
   "codemirror_mode": {
    "name": "ipython",
    "version": 3
   },
   "file_extension": ".py",
   "mimetype": "text/x-python",
   "name": "python",
   "nbconvert_exporter": "python",
   "pygments_lexer": "ipython3",
   "version": "3.9.12"
  }
 },
 "nbformat": 4,
 "nbformat_minor": 5
}
